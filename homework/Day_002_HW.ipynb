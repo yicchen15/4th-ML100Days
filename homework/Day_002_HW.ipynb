{
 "cells": [
  {
   "cell_type": "markdown",
   "metadata": {},
   "source": [
    "## [作業目標]\n",
    "了解機器學習適合應用的領域與範疇。"
   ]
  },
  {
   "cell_type": "markdown",
   "metadata": {},
   "source": [
    "## [作業重點]\n",
    "透過瞭解機器學習的運作方式，找出非常適用機器學習應用的領域及其原因"
   ]
  },
  {
   "cell_type": "markdown",
   "metadata": {},
   "source": [
    "## 作業\n",
    "請找出一個你認為機器學習可以發光發熱的領域並闡述原因? "
   ]
  },
  {
   "cell_type": "markdown",
   "metadata": {},
   "source": [
    "在資訊爆炸的時代，想了解資料之間的關聯、規律或是剔除不相關的資料，可以透過機器學習來實現。\n",
    "機器學習對於網購行為的預測應能對業績提升有幫助，網購時業者已有買家會員資料，可得知年齡、居住地等資訊，對於該買家較常瀏覽或下單的產品也能隨時掌握，在活動或節日時寄發廣告郵件或是推播優惠資訊，都有可能增加下單數。掌握買家行為與年齡等資訊的相關後，對於新的買家或者廣告平台年齡層有興趣的商品，可較精準預測消費者的心理。"
   ]
  }
 ],
 "metadata": {
  "kernelspec": {
   "display_name": "Python 3",
   "language": "python",
   "name": "python3"
  },
  "language_info": {
   "codemirror_mode": {
    "name": "ipython",
    "version": 3
   },
   "file_extension": ".py",
   "mimetype": "text/x-python",
   "name": "python",
   "nbconvert_exporter": "python",
   "pygments_lexer": "ipython3",
   "version": "3.7.4"
  }
 },
 "nbformat": 4,
 "nbformat_minor": 2
}
